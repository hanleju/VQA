{
 "cells": [
  {
   "cell_type": "code",
   "execution_count": null,
   "id": "09dccdf7",
   "metadata": {},
   "outputs": [],
   "source": [
    "from torch.utils.data import DataLoader\n",
    "from torchvision import transforms\n",
    "\n",
    "from data import VQADataset, collate_fn_with_tokenizer\n",
    "from transformers import BertTokenizer\n",
    "from functools import partial"
   ]
  },
  {
   "cell_type": "code",
   "execution_count": null,
   "id": "9d1422c0",
   "metadata": {},
   "outputs": [
    {
     "name": "stdout",
     "output_type": "stream",
     "text": [
      "총 38575개의 샘플과 13개의 고유한 답변을 로드했습니다.\n",
      "DataLoader에서 1배치 가져오기 테스트...\n",
      "\n",
      "--- 첫 번째 배치 데이터 ---\n",
      "Image 배치 타입: <class 'torch.Tensor'>\n",
      "Image 배치 Shape: torch.Size([2, 3, 224, 224])\n",
      "\n",
      "Question 배치 타입: <class 'transformers.tokenization_utils_base.BatchEncoding'>\n",
      "Question 배치 내용: {'input_ids': tensor([[ 101, 2003, 2045, 2025, 1037, 9546, 1029,  102],\n",
      "        [ 101, 2003, 2045, 1037, 3897, 4338, 1029,  102]]), 'token_type_ids': tensor([[0, 0, 0, 0, 0, 0, 0, 0],\n",
      "        [0, 0, 0, 0, 0, 0, 0, 0]]), 'attention_mask': tensor([[1, 1, 1, 1, 1, 1, 1, 1],\n",
      "        [1, 1, 1, 1, 1, 1, 1, 1]])}\n",
      "\n",
      "Answer 배치 타입: <class 'torch.Tensor'>\n",
      "Answer 배치 Shape: torch.Size([2])\n",
      "Answer 배치 내용: tensor([ 4, 12])\n",
      "Answer 텍스트 변환: ['yes', 'no']\n"
     ]
    }
   ],
   "source": [
    "tokenizer = BertTokenizer.from_pretrained('bert-base-uncased')\n",
    "\n",
    "image_transform = transforms.Compose([\n",
    "    transforms.Resize((224, 224)),\n",
    "    transforms.ToTensor(),\n",
    "    transforms.Normalize(mean=[0.485, 0.456, 0.406], \n",
    "                            std=[0.229, 0.224, 0.225])\n",
    "])\n",
    "\n",
    "DATASET_ROOT = 'D:/VQA/easyVQA'\n",
    "train_dataset = VQADataset(root_dir=DATASET_ROOT, \n",
    "                                split='train', \n",
    "                                transform=image_transform)\n",
    "\n",
    "# 3. DataLoader 인스턴스 생성\n",
    "# collate_fn tokenizer 버전 사용 유무에 따른 형식 차이\n",
    "# (이전) {'image': ..., 'question': [...], 'answer': ...}\n",
    "# (변경 후) {'image': ..., 'inputs': {'input_ids': ..., 'attention_mask': ...}, 'answer': ...}\n",
    "\n",
    "train_loader = DataLoader(\n",
    "    dataset=train_dataset,\n",
    "    batch_size=2,\n",
    "    shuffle=True,\n",
    "    collate_fn=partial(collate_fn_with_tokenizer, tokenizer=tokenizer)\n",
    ")\n",
    "\n",
    "# 4. DataLoader 테스트 (1배치 뽑아보기)\n",
    "print(\"DataLoader에서 1배치 가져오기 테스트...\")\n",
    "try:\n",
    "    first_batch = next(iter(train_loader))\n",
    "\n",
    "    if first_batch:\n",
    "        print(f\"\\n--- 첫 번째 배치 데이터 ---\")\n",
    "        \n",
    "        # 이미지 배치\n",
    "        img_batch = first_batch['image']\n",
    "        print(f\"Image 배치 타입: {type(img_batch)}\")\n",
    "        print(f\"Image 배치 Shape: {img_batch.shape}\") # (B, C, H, W) -> (2, 3, 224, 224)\n",
    "\n",
    "        # 질문 배치\n",
    "        q_batch = first_batch['inputs']\n",
    "        print(f\"\\nQuestion 배치 타입: {type(q_batch)}\")\n",
    "        print(f\"Question 배치 내용: {q_batch}\") # ['what color is the shape?', 'what is the blue shape?']\n",
    "\n",
    "        # 답변 배치\n",
    "        ans_batch = first_batch['answer']\n",
    "        print(f\"\\nAnswer 배치 타입: {type(ans_batch)}\")\n",
    "        print(f\"Answer 배치 Shape: {ans_batch.shape}\") # (B,) -> (2,)\n",
    "        print(f\"Answer 배치 내용: {ans_batch}\") # [1, 0] (labels.txt 인덱스 기준)\n",
    "        \n",
    "        # 답변 인덱스를 다시 텍스트로 변환\n",
    "        ans_texts = [train_dataset.idx_to_answer[idx] if idx >= 0 else 'UNK' for idx in ans_batch]\n",
    "        print(f\"Answer 텍스트 변환: {ans_texts}\")\n",
    "\n",
    "except Exception as e:\n",
    "    print(f\"\\nDataLoader 테스트 중 오류 발생: {e}\")"
   ]
  }
 ],
 "metadata": {
  "kernelspec": {
   "display_name": "vqa",
   "language": "python",
   "name": "python3"
  },
  "language_info": {
   "codemirror_mode": {
    "name": "ipython",
    "version": 3
   },
   "file_extension": ".py",
   "mimetype": "text/x-python",
   "name": "python",
   "nbconvert_exporter": "python",
   "pygments_lexer": "ipython3",
   "version": "3.9.23"
  }
 },
 "nbformat": 4,
 "nbformat_minor": 5
}
